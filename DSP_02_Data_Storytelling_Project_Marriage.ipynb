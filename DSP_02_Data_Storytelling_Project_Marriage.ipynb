{
  "nbformat": 4,
  "nbformat_minor": 0,
  "metadata": {
    "colab": {
      "name": "DSP_02_Data_Storytelling_Project_Marriage.ipynb",
      "provenance": [],
      "collapsed_sections": [],
      "include_colab_link": true
    },
    "kernelspec": {
      "name": "python3",
      "display_name": "Python 3"
    }
  },
  "cells": [
    {
      "cell_type": "markdown",
      "metadata": {
        "id": "view-in-github",
        "colab_type": "text"
      },
      "source": [
        "<a href=\"https://colab.research.google.com/github/ahvblackwelltech/DSP_Marriage/blob/master/DSP_02_Data_Storytelling_Project_Marriage.ipynb\" target=\"_parent\"><img src=\"https://colab.research.google.com/assets/colab-badge.svg\" alt=\"Open In Colab\"/></a>"
      ]
    },
    {
      "cell_type": "markdown",
      "metadata": {
        "id": "eYA2TXNeO1yz",
        "colab_type": "text"
      },
      "source": [
        "# Data Storytelling Project\n",
        "\n",
        "Is Marriage Most Common In The South Region Of The U.S?\n"
      ]
    },
    {
      "cell_type": "markdown",
      "metadata": {
        "id": "bkC_JG2gU0W5",
        "colab_type": "text"
      },
      "source": [
        "To some individuals, marriage is a social status. And to some marriage is a thing of the past. But the statement \"Marriage isn't dead...yet!\" still have yet to be proven. "
      ]
    },
    {
      "cell_type": "markdown",
      "metadata": {
        "id": "sI9fhMMuzoIv",
        "colab_type": "text"
      },
      "source": [
        "Southern Region (Family Values, Moral, Religion Standing)\n",
        "\n",
        "\n",
        "What is your Origin? is marriage still a thing?"
      ]
    },
    {
      "cell_type": "markdown",
      "metadata": {
        "id": "5IvheuzoVeF4",
        "colab_type": "text"
      },
      "source": [
        "[FiveThirtyEight](https://fivethirtyeight.com/features/marriage-isnt-dead-yet/)\n",
        "Marriage Isn't Dead - Yet!"
      ]
    },
    {
      "cell_type": "markdown",
      "metadata": {
        "id": "XexbCm3tV42P",
        "colab_type": "text"
      },
      "source": [
        "[How Your Hometown Affects Your Chances of Marriage](https://www.nytimes.com/interactive/2015/05/15/upshot/the-places-that-discourage-marriage-most.html)"
      ]
    },
    {
      "cell_type": "markdown",
      "metadata": {
        "id": "2xUJGvi7xfP7",
        "colab_type": "text"
      },
      "source": [
        "[U.S. Census Source](https://data.census.gov/cedsci/table?q=marriage&g=0200000US2,3,1,4&hidePreview=true&table=B12007&tid=ACSDT1Y2018.B12007&lastDisplayedRow=2&vintage=2018&mode=): Marriage Rate By Gender & US Region"
      ]
    },
    {
      "cell_type": "code",
      "metadata": {
        "id": "HCriWCP_O0iA",
        "colab_type": "code",
        "colab": {}
      },
      "source": [
        "import pandas as pd\n",
        "import numpy as np\n",
        "import matplotlib.pyplot as plt\n",
        "import seaborn as sns\n",
        "%matplotlib inline"
      ],
      "execution_count": 0,
      "outputs": []
    },
    {
      "cell_type": "code",
      "metadata": {
        "id": "uzGnDmAnyhHP",
        "colab_type": "code",
        "colab": {}
      },
      "source": [
        "median_age_female = pd.read_csv('Median_Age_Marriage_Female.csv')\n",
        "median_age_male = pd.read_csv('Median_Age_Marriage_Male.csv')\n",
        "south_FM_2018 = pd.read_csv('Marriage_South_2018.csv')\n",
        "midwest_FM_2018 = pd.read_csv('Marriage_West_2018.csv')\n",
        "west_FM_2018 = pd.read_csv('Marriage_Midwest_15_Plus_2018.csv')\n",
        "n_est_FM_2018 = pd.read_csv('Marriage_Northeast_2018.csv')"
      ],
      "execution_count": 0,
      "outputs": []
    },
    {
      "cell_type": "code",
      "metadata": {
        "id": "l0YJcKhny7qQ",
        "colab_type": "code",
        "colab": {
          "base_uri": "https://localhost:8080/",
          "height": 111
        },
        "outputId": "d8c08097-5f2f-4894-b334-7b8d3ec80f80"
      },
      "source": [
        "# South Region Percentage For Females\n",
        "\n",
        "south_FM_2018.head()"
      ],
      "execution_count": 18,
      "outputs": [
        {
          "output_type": "execute_result",
          "data": {
            "text/html": [
              "<div>\n",
              "<style scoped>\n",
              "    .dataframe tbody tr th:only-of-type {\n",
              "        vertical-align: middle;\n",
              "    }\n",
              "\n",
              "    .dataframe tbody tr th {\n",
              "        vertical-align: top;\n",
              "    }\n",
              "\n",
              "    .dataframe thead th {\n",
              "        text-align: right;\n",
              "    }\n",
              "</style>\n",
              "<table border=\"1\" class=\"dataframe\">\n",
              "  <thead>\n",
              "    <tr style=\"text-align: right;\">\n",
              "      <th></th>\n",
              "      <th>Sex</th>\n",
              "      <th>Married</th>\n",
              "      <th>Widowed</th>\n",
              "      <th>Divorced</th>\n",
              "      <th>Separated</th>\n",
              "      <th>Never Married</th>\n",
              "      <th>Total</th>\n",
              "    </tr>\n",
              "  </thead>\n",
              "  <tbody>\n",
              "    <tr>\n",
              "      <th>0</th>\n",
              "      <td>Male</td>\n",
              "      <td>49.1</td>\n",
              "      <td>2.8</td>\n",
              "      <td>10.2</td>\n",
              "      <td>1.9</td>\n",
              "      <td>36</td>\n",
              "      <td>49011935</td>\n",
              "    </tr>\n",
              "    <tr>\n",
              "      <th>1</th>\n",
              "      <td>Female</td>\n",
              "      <td>45.5</td>\n",
              "      <td>9.1</td>\n",
              "      <td>12.8</td>\n",
              "      <td>2.6</td>\n",
              "      <td>30</td>\n",
              "      <td>52065222</td>\n",
              "    </tr>\n",
              "  </tbody>\n",
              "</table>\n",
              "</div>"
            ],
            "text/plain": [
              "      Sex  Married  Widowed  Divorced  Separated  Never Married     Total\n",
              "0    Male     49.1      2.8      10.2        1.9             36  49011935\n",
              "1  Female     45.5      9.1      12.8        2.6             30  52065222"
            ]
          },
          "metadata": {
            "tags": []
          },
          "execution_count": 18
        }
      ]
    },
    {
      "cell_type": "code",
      "metadata": {
        "id": "6MdXoU-EWw8V",
        "colab_type": "code",
        "colab": {
          "base_uri": "https://localhost:8080/",
          "height": 153
        },
        "outputId": "bc288078-e13a-4fcc-9efa-955a7c5baf7a"
      },
      "source": [
        "# Looking For The Sum Between Each Marital Status\n",
        "south_FM_2018.sum()"
      ],
      "execution_count": 22,
      "outputs": [
        {
          "output_type": "execute_result",
          "data": {
            "text/plain": [
              "Sex              MaleFemale\n",
              "Married                94.6\n",
              "Widowed                11.9\n",
              "Divorced                 23\n",
              "Separated               4.5\n",
              "Never Married            66\n",
              "Total             101077157\n",
              "dtype: object"
            ]
          },
          "metadata": {
            "tags": []
          },
          "execution_count": 22
        }
      ]
    },
    {
      "cell_type": "code",
      "metadata": {
        "id": "k-RycKR-XSKx",
        "colab_type": "code",
        "colab": {
          "base_uri": "https://localhost:8080/",
          "height": 142
        },
        "outputId": "37f6c8f4-f9c0-4538-d873-ef44cc2a44cb"
      },
      "source": [
        "# Created CrossTable For The South Region\n",
        "marriage_rate_south = pd.crosstab(south_FM_2018['Sex'], south_FM_2018['Married'], normalize='columns')\n",
        "marriage_rate_south.head()"
      ],
      "execution_count": 30,
      "outputs": [
        {
          "output_type": "execute_result",
          "data": {
            "text/html": [
              "<div>\n",
              "<style scoped>\n",
              "    .dataframe tbody tr th:only-of-type {\n",
              "        vertical-align: middle;\n",
              "    }\n",
              "\n",
              "    .dataframe tbody tr th {\n",
              "        vertical-align: top;\n",
              "    }\n",
              "\n",
              "    .dataframe thead th {\n",
              "        text-align: right;\n",
              "    }\n",
              "</style>\n",
              "<table border=\"1\" class=\"dataframe\">\n",
              "  <thead>\n",
              "    <tr style=\"text-align: right;\">\n",
              "      <th>Married</th>\n",
              "      <th>45.5</th>\n",
              "      <th>49.1</th>\n",
              "    </tr>\n",
              "    <tr>\n",
              "      <th>Sex</th>\n",
              "      <th></th>\n",
              "      <th></th>\n",
              "    </tr>\n",
              "  </thead>\n",
              "  <tbody>\n",
              "    <tr>\n",
              "      <th>Female</th>\n",
              "      <td>1.0</td>\n",
              "      <td>0.0</td>\n",
              "    </tr>\n",
              "    <tr>\n",
              "      <th>Male</th>\n",
              "      <td>0.0</td>\n",
              "      <td>1.0</td>\n",
              "    </tr>\n",
              "  </tbody>\n",
              "</table>\n",
              "</div>"
            ],
            "text/plain": [
              "Married  45.5  49.1\n",
              "Sex                \n",
              "Female    1.0   0.0\n",
              "Male      0.0   1.0"
            ]
          },
          "metadata": {
            "tags": []
          },
          "execution_count": 30
        }
      ]
    },
    {
      "cell_type": "code",
      "metadata": {
        "id": "3MbWmrfUY0RJ",
        "colab_type": "code",
        "colab": {
          "base_uri": "https://localhost:8080/",
          "height": 142
        },
        "outputId": "270f2e9c-b7b7-4b8d-e438-cccd21271f71"
      },
      "source": [
        "marriage_rate_south = marriage_rate_south.T\n",
        "marriage_rate_south.head()"
      ],
      "execution_count": 31,
      "outputs": [
        {
          "output_type": "execute_result",
          "data": {
            "text/html": [
              "<div>\n",
              "<style scoped>\n",
              "    .dataframe tbody tr th:only-of-type {\n",
              "        vertical-align: middle;\n",
              "    }\n",
              "\n",
              "    .dataframe tbody tr th {\n",
              "        vertical-align: top;\n",
              "    }\n",
              "\n",
              "    .dataframe thead th {\n",
              "        text-align: right;\n",
              "    }\n",
              "</style>\n",
              "<table border=\"1\" class=\"dataframe\">\n",
              "  <thead>\n",
              "    <tr style=\"text-align: right;\">\n",
              "      <th>Sex</th>\n",
              "      <th>Female</th>\n",
              "      <th>Male</th>\n",
              "    </tr>\n",
              "    <tr>\n",
              "      <th>Married</th>\n",
              "      <th></th>\n",
              "      <th></th>\n",
              "    </tr>\n",
              "  </thead>\n",
              "  <tbody>\n",
              "    <tr>\n",
              "      <th>45.5</th>\n",
              "      <td>1.0</td>\n",
              "      <td>0.0</td>\n",
              "    </tr>\n",
              "    <tr>\n",
              "      <th>49.1</th>\n",
              "      <td>0.0</td>\n",
              "      <td>1.0</td>\n",
              "    </tr>\n",
              "  </tbody>\n",
              "</table>\n",
              "</div>"
            ],
            "text/plain": [
              "Sex      Female  Male\n",
              "Married              \n",
              "45.5        1.0   0.0\n",
              "49.1        0.0   1.0"
            ]
          },
          "metadata": {
            "tags": []
          },
          "execution_count": 31
        }
      ]
    },
    {
      "cell_type": "code",
      "metadata": {
        "id": "Dpqcz0ymZDka",
        "colab_type": "code",
        "colab": {
          "base_uri": "https://localhost:8080/",
          "height": 279
        },
        "outputId": "d2aa9a6d-0271-4ac6-f716-3f02e5e3cb6c"
      },
      "source": [
        "marriage_rate_south.plot();"
      ],
      "execution_count": 32,
      "outputs": [
        {
          "output_type": "display_data",
          "data": {
            "image/png": "[encoded data removed]",
            "text/plain": [
              "<Figure size 432x288 with 1 Axes>"
            ]
          },
          "metadata": {
            "tags": []
          }
        }
      ]
    },
    {
      "cell_type": "code",
      "metadata": {
        "id": "AD8_vgVBWg1N",
        "colab_type": "code",
        "colab": {
          "base_uri": "https://localhost:8080/",
          "height": 111
        },
        "outputId": "f927da1c-6936-4dfd-d8fe-51a0bc951517"
      },
      "source": [
        "midwest_FM_2018.head()"
      ],
      "execution_count": 19,
      "outputs": [
        {
          "output_type": "execute_result",
          "data": {
            "text/html": [
              "<div>\n",
              "<style scoped>\n",
              "    .dataframe tbody tr th:only-of-type {\n",
              "        vertical-align: middle;\n",
              "    }\n",
              "\n",
              "    .dataframe tbody tr th {\n",
              "        vertical-align: top;\n",
              "    }\n",
              "\n",
              "    .dataframe thead th {\n",
              "        text-align: right;\n",
              "    }\n",
              "</style>\n",
              "<table border=\"1\" class=\"dataframe\">\n",
              "  <thead>\n",
              "    <tr style=\"text-align: right;\">\n",
              "      <th></th>\n",
              "      <th>Sex</th>\n",
              "      <th>Married</th>\n",
              "      <th>Widowed</th>\n",
              "      <th>Divorced</th>\n",
              "      <th>Separated</th>\n",
              "      <th>Never Married</th>\n",
              "      <th>Total</th>\n",
              "    </tr>\n",
              "  </thead>\n",
              "  <tbody>\n",
              "    <tr>\n",
              "      <th>0</th>\n",
              "      <td>Male</td>\n",
              "      <td>49.0</td>\n",
              "      <td>2.3</td>\n",
              "      <td>9</td>\n",
              "      <td>1.5</td>\n",
              "      <td>38.2</td>\n",
              "      <td>22473038</td>\n",
              "    </tr>\n",
              "    <tr>\n",
              "      <th>1</th>\n",
              "      <td>Female</td>\n",
              "      <td>47.1</td>\n",
              "      <td>7.6</td>\n",
              "      <td>12</td>\n",
              "      <td>2.0</td>\n",
              "      <td>31.2</td>\n",
              "      <td>24081444</td>\n",
              "    </tr>\n",
              "  </tbody>\n",
              "</table>\n",
              "</div>"
            ],
            "text/plain": [
              "      Sex  Married  Widowed  Divorced  Separated  Never Married     Total\n",
              "0    Male     49.0      2.3         9        1.5           38.2  22473038\n",
              "1  Female     47.1      7.6        12        2.0           31.2  24081444"
            ]
          },
          "metadata": {
            "tags": []
          },
          "execution_count": 19
        }
      ]
    },
    {
      "cell_type": "code",
      "metadata": {
        "id": "yFoa91JOW4VH",
        "colab_type": "code",
        "colab": {
          "base_uri": "https://localhost:8080/",
          "height": 153
        },
        "outputId": "095647a9-d9c8-4403-a4ed-58b402eb6496"
      },
      "source": [
        "midwest_FM_2018.sum()"
      ],
      "execution_count": 23,
      "outputs": [
        {
          "output_type": "execute_result",
          "data": {
            "text/plain": [
              "Sex              MaleFemale\n",
              "Married                96.1\n",
              "Widowed                 9.9\n",
              "Divorced                 21\n",
              "Separated               3.5\n",
              "Never Married          69.4\n",
              "Total              46554482\n",
              "dtype: object"
            ]
          },
          "metadata": {
            "tags": []
          },
          "execution_count": 23
        }
      ]
    },
    {
      "cell_type": "code",
      "metadata": {
        "id": "BET64-gbZeFh",
        "colab_type": "code",
        "colab": {
          "base_uri": "https://localhost:8080/",
          "height": 142
        },
        "outputId": "ca15eea1-b038-42b8-edc6-ef308ab3a07a"
      },
      "source": [
        "marriage_rate_midwest = pd.crosstab(midwest_FM_2018['Sex'], midwest_FM_2018['Married'], normalize='columns')\n",
        "marriage_rate_midwest.head()"
      ],
      "execution_count": 38,
      "outputs": [
        {
          "output_type": "execute_result",
          "data": {
            "text/html": [
              "<div>\n",
              "<style scoped>\n",
              "    .dataframe tbody tr th:only-of-type {\n",
              "        vertical-align: middle;\n",
              "    }\n",
              "\n",
              "    .dataframe tbody tr th {\n",
              "        vertical-align: top;\n",
              "    }\n",
              "\n",
              "    .dataframe thead th {\n",
              "        text-align: right;\n",
              "    }\n",
              "</style>\n",
              "<table border=\"1\" class=\"dataframe\">\n",
              "  <thead>\n",
              "    <tr style=\"text-align: right;\">\n",
              "      <th>Married</th>\n",
              "      <th>47.1</th>\n",
              "      <th>49.0</th>\n",
              "    </tr>\n",
              "    <tr>\n",
              "      <th>Sex</th>\n",
              "      <th></th>\n",
              "      <th></th>\n",
              "    </tr>\n",
              "  </thead>\n",
              "  <tbody>\n",
              "    <tr>\n",
              "      <th>Female</th>\n",
              "      <td>1.0</td>\n",
              "      <td>0.0</td>\n",
              "    </tr>\n",
              "    <tr>\n",
              "      <th>Male</th>\n",
              "      <td>0.0</td>\n",
              "      <td>1.0</td>\n",
              "    </tr>\n",
              "  </tbody>\n",
              "</table>\n",
              "</div>"
            ],
            "text/plain": [
              "Married  47.1  49.0\n",
              "Sex                \n",
              "Female    1.0   0.0\n",
              "Male      0.0   1.0"
            ]
          },
          "metadata": {
            "tags": []
          },
          "execution_count": 38
        }
      ]
    },
    {
      "cell_type": "code",
      "metadata": {
        "id": "Xy8IfnXmZuxU",
        "colab_type": "code",
        "colab": {
          "base_uri": "https://localhost:8080/",
          "height": 142
        },
        "outputId": "1fefaeaf-77d8-4c4b-e81b-d040518ea4a3"
      },
      "source": [
        "marriage_rate_midwest = marriage_rate_midwest.T\n",
        "marriage_rate_midwest.head()"
      ],
      "execution_count": 35,
      "outputs": [
        {
          "output_type": "execute_result",
          "data": {
            "text/html": [
              "<div>\n",
              "<style scoped>\n",
              "    .dataframe tbody tr th:only-of-type {\n",
              "        vertical-align: middle;\n",
              "    }\n",
              "\n",
              "    .dataframe tbody tr th {\n",
              "        vertical-align: top;\n",
              "    }\n",
              "\n",
              "    .dataframe thead th {\n",
              "        text-align: right;\n",
              "    }\n",
              "</style>\n",
              "<table border=\"1\" class=\"dataframe\">\n",
              "  <thead>\n",
              "    <tr style=\"text-align: right;\">\n",
              "      <th>Sex</th>\n",
              "      <th>Female</th>\n",
              "      <th>Male</th>\n",
              "    </tr>\n",
              "    <tr>\n",
              "      <th>Married</th>\n",
              "      <th></th>\n",
              "      <th></th>\n",
              "    </tr>\n",
              "  </thead>\n",
              "  <tbody>\n",
              "    <tr>\n",
              "      <th>47.1</th>\n",
              "      <td>1.0</td>\n",
              "      <td>0.0</td>\n",
              "    </tr>\n",
              "    <tr>\n",
              "      <th>49.0</th>\n",
              "      <td>0.0</td>\n",
              "      <td>1.0</td>\n",
              "    </tr>\n",
              "  </tbody>\n",
              "</table>\n",
              "</div>"
            ],
            "text/plain": [
              "Sex      Female  Male\n",
              "Married              \n",
              "47.1        1.0   0.0\n",
              "49.0        0.0   1.0"
            ]
          },
          "metadata": {
            "tags": []
          },
          "execution_count": 35
        }
      ]
    },
    {
      "cell_type": "code",
      "metadata": {
        "id": "HUrrk-rUZ4Kp",
        "colab_type": "code",
        "colab": {
          "base_uri": "https://localhost:8080/",
          "height": 279
        },
        "outputId": "8ac7841b-bb0f-4dab-b2ac-3a4f84279caf"
      },
      "source": [
        "marriage_rate_south.plot();"
      ],
      "execution_count": 36,
      "outputs": [
        {
          "output_type": "display_data",
          "data": {
            "image/png": "[encoded data removed]",
            "text/plain": [
              "<Figure size 432x288 with 1 Axes>"
            ]
          },
          "metadata": {
            "tags": []
          }
        }
      ]
    },
    {
      "cell_type": "code",
      "metadata": {
        "id": "R9tzZhQBWkV_",
        "colab_type": "code",
        "colab": {
          "base_uri": "https://localhost:8080/",
          "height": 111
        },
        "outputId": "c8f91c37-631a-4bc6-8de6-56889972531a"
      },
      "source": [
        "west_FM_2018.head()"
      ],
      "execution_count": 20,
      "outputs": [
        {
          "output_type": "execute_result",
          "data": {
            "text/html": [
              "<div>\n",
              "<style scoped>\n",
              "    .dataframe tbody tr th:only-of-type {\n",
              "        vertical-align: middle;\n",
              "    }\n",
              "\n",
              "    .dataframe tbody tr th {\n",
              "        vertical-align: top;\n",
              "    }\n",
              "\n",
              "    .dataframe thead th {\n",
              "        text-align: right;\n",
              "    }\n",
              "</style>\n",
              "<table border=\"1\" class=\"dataframe\">\n",
              "  <thead>\n",
              "    <tr style=\"text-align: right;\">\n",
              "      <th></th>\n",
              "      <th>Sex</th>\n",
              "      <th>Married</th>\n",
              "      <th>Widowed</th>\n",
              "      <th>Divorced</th>\n",
              "      <th>Separated</th>\n",
              "      <th>Never Married</th>\n",
              "      <th>Total</th>\n",
              "    </tr>\n",
              "  </thead>\n",
              "  <tbody>\n",
              "    <tr>\n",
              "      <th>0</th>\n",
              "      <td>Male</td>\n",
              "      <td>50.0</td>\n",
              "      <td>2.8</td>\n",
              "      <td>10.1</td>\n",
              "      <td>1.2</td>\n",
              "      <td>35.9</td>\n",
              "      <td>27180400</td>\n",
              "    </tr>\n",
              "    <tr>\n",
              "      <th>1</th>\n",
              "      <td>Female</td>\n",
              "      <td>47.8</td>\n",
              "      <td>8.8</td>\n",
              "      <td>12.2</td>\n",
              "      <td>1.5</td>\n",
              "      <td>29.6</td>\n",
              "      <td>28352404</td>\n",
              "    </tr>\n",
              "  </tbody>\n",
              "</table>\n",
              "</div>"
            ],
            "text/plain": [
              "      Sex  Married  Widowed  Divorced  Separated  Never Married     Total\n",
              "0    Male     50.0      2.8      10.1        1.2           35.9  27180400\n",
              "1  Female     47.8      8.8      12.2        1.5           29.6  28352404"
            ]
          },
          "metadata": {
            "tags": []
          },
          "execution_count": 20
        }
      ]
    },
    {
      "cell_type": "code",
      "metadata": {
        "id": "Fj8ftXWkW7jS",
        "colab_type": "code",
        "colab": {
          "base_uri": "https://localhost:8080/",
          "height": 153
        },
        "outputId": "35832218-a5fc-4405-aa20-d896c918757e"
      },
      "source": [
        "west_FM_2018.sum()"
      ],
      "execution_count": 24,
      "outputs": [
        {
          "output_type": "execute_result",
          "data": {
            "text/plain": [
              "Sex              MaleFemale\n",
              "Married                97.8\n",
              "Widowed                11.6\n",
              "Divorced               22.3\n",
              "Separated               2.7\n",
              "Never Married          65.5\n",
              "Total              55532804\n",
              "dtype: object"
            ]
          },
          "metadata": {
            "tags": []
          },
          "execution_count": 24
        }
      ]
    },
    {
      "cell_type": "code",
      "metadata": {
        "id": "y253XFJ3WoDL",
        "colab_type": "code",
        "colab": {
          "base_uri": "https://localhost:8080/",
          "height": 111
        },
        "outputId": "5fb3bcfd-6608-4747-b0fc-c945c89d0470"
      },
      "source": [
        "n_est_FM_2018.head()"
      ],
      "execution_count": 21,
      "outputs": [
        {
          "output_type": "execute_result",
          "data": {
            "text/html": [
              "<div>\n",
              "<style scoped>\n",
              "    .dataframe tbody tr th:only-of-type {\n",
              "        vertical-align: middle;\n",
              "    }\n",
              "\n",
              "    .dataframe tbody tr th {\n",
              "        vertical-align: top;\n",
              "    }\n",
              "\n",
              "    .dataframe thead th {\n",
              "        text-align: right;\n",
              "    }\n",
              "</style>\n",
              "<table border=\"1\" class=\"dataframe\">\n",
              "  <thead>\n",
              "    <tr style=\"text-align: right;\">\n",
              "      <th></th>\n",
              "      <th>Sex</th>\n",
              "      <th>Married</th>\n",
              "      <th>Widowed</th>\n",
              "      <th>Divorced</th>\n",
              "      <th>Separated</th>\n",
              "      <th>Never Married</th>\n",
              "      <th>Total</th>\n",
              "    </tr>\n",
              "  </thead>\n",
              "  <tbody>\n",
              "    <tr>\n",
              "      <th>0</th>\n",
              "      <td>Male</td>\n",
              "      <td>49.1</td>\n",
              "      <td>2.6</td>\n",
              "      <td>8.1</td>\n",
              "      <td>1.6</td>\n",
              "      <td>38.6</td>\n",
              "      <td>22473038</td>\n",
              "    </tr>\n",
              "    <tr>\n",
              "      <th>1</th>\n",
              "      <td>Female</td>\n",
              "      <td>45.1</td>\n",
              "      <td>9.0</td>\n",
              "      <td>10.8</td>\n",
              "      <td>2.2</td>\n",
              "      <td>32.9</td>\n",
              "      <td>24081444</td>\n",
              "    </tr>\n",
              "  </tbody>\n",
              "</table>\n",
              "</div>"
            ],
            "text/plain": [
              "      Sex  Married  Widowed  Divorced  Separated  Never Married     Total\n",
              "0    Male     49.1      2.6       8.1        1.6           38.6  22473038\n",
              "1  Female     45.1      9.0      10.8        2.2           32.9  24081444"
            ]
          },
          "metadata": {
            "tags": []
          },
          "execution_count": 21
        }
      ]
    },
    {
      "cell_type": "code",
      "metadata": {
        "id": "sJGahm43W-vt",
        "colab_type": "code",
        "colab": {
          "base_uri": "https://localhost:8080/",
          "height": 153
        },
        "outputId": "55ac4a9e-7f4b-4c24-ab06-5def245358a1"
      },
      "source": [
        "n_est_FM_2018.sum()"
      ],
      "execution_count": 25,
      "outputs": [
        {
          "output_type": "execute_result",
          "data": {
            "text/plain": [
              "Sex              MaleFemale\n",
              "Married                94.2\n",
              "Widowed                11.6\n",
              "Divorced               18.9\n",
              "Separated               3.8\n",
              "Never Married          71.5\n",
              "Total              46554482\n",
              "dtype: object"
            ]
          },
          "metadata": {
            "tags": []
          },
          "execution_count": 25
        }
      ]
    },
    {
      "cell_type": "code",
      "metadata": {
        "id": "vbpnLt41zBk9",
        "colab_type": "code",
        "outputId": "acf14ac4-1194-458f-a1ff-4b6765151a4a",
        "colab": {
          "base_uri": "https://localhost:8080/",
          "height": 173
        }
      },
      "source": [
        "median_age_female.head()"
      ],
      "execution_count": 3,
      "outputs": [
        {
          "output_type": "execute_result",
          "data": {
            "text/html": [
              "<div>\n",
              "<style scoped>\n",
              "    .dataframe tbody tr th:only-of-type {\n",
              "        vertical-align: middle;\n",
              "    }\n",
              "\n",
              "    .dataframe tbody tr th {\n",
              "        vertical-align: top;\n",
              "    }\n",
              "\n",
              "    .dataframe thead th {\n",
              "        text-align: right;\n",
              "    }\n",
              "</style>\n",
              "<table border=\"1\" class=\"dataframe\">\n",
              "  <thead>\n",
              "    <tr style=\"text-align: right;\">\n",
              "      <th></th>\n",
              "      <th>Year</th>\n",
              "      <th>South Region</th>\n",
              "      <th>Northeast Region</th>\n",
              "      <th>Midwest Region</th>\n",
              "      <th>West Region</th>\n",
              "    </tr>\n",
              "  </thead>\n",
              "  <tbody>\n",
              "    <tr>\n",
              "      <th>0</th>\n",
              "      <td>2015</td>\n",
              "      <td>27.2</td>\n",
              "      <td>29.3</td>\n",
              "      <td>27.4</td>\n",
              "      <td>27.8</td>\n",
              "    </tr>\n",
              "    <tr>\n",
              "      <th>1</th>\n",
              "      <td>2016</td>\n",
              "      <td>27.4</td>\n",
              "      <td>29.4</td>\n",
              "      <td>27.6</td>\n",
              "      <td>27.9</td>\n",
              "    </tr>\n",
              "    <tr>\n",
              "      <th>2</th>\n",
              "      <td>2017</td>\n",
              "      <td>27.6</td>\n",
              "      <td>29.4</td>\n",
              "      <td>27.8</td>\n",
              "      <td>28.2</td>\n",
              "    </tr>\n",
              "    <tr>\n",
              "      <th>3</th>\n",
              "      <td>2018</td>\n",
              "      <td>27.9</td>\n",
              "      <td>29.5</td>\n",
              "      <td>27.8</td>\n",
              "      <td>28.4</td>\n",
              "    </tr>\n",
              "  </tbody>\n",
              "</table>\n",
              "</div>"
            ],
            "text/plain": [
              "   Year  South Region  Northeast Region  Midwest Region  West Region\n",
              "0  2015          27.2              29.3            27.4         27.8\n",
              "1  2016          27.4              29.4            27.6         27.9\n",
              "2  2017          27.6              29.4            27.8         28.2\n",
              "3  2018          27.9              29.5            27.8         28.4"
            ]
          },
          "metadata": {
            "tags": []
          },
          "execution_count": 3
        }
      ]
    },
    {
      "cell_type": "code",
      "metadata": {
        "id": "PdOJfZOhztoz",
        "colab_type": "code",
        "outputId": "0f79881e-c72f-4ce7-ead1-fc5128d516e2",
        "colab": {
          "base_uri": "https://localhost:8080/",
          "height": 34
        }
      },
      "source": [
        "median_age_female.shape"
      ],
      "execution_count": 4,
      "outputs": [
        {
          "output_type": "execute_result",
          "data": {
            "text/plain": [
              "(4, 5)"
            ]
          },
          "metadata": {
            "tags": []
          },
          "execution_count": 4
        }
      ]
    },
    {
      "cell_type": "code",
      "metadata": {
        "id": "Gjj4p7cplAIN",
        "colab_type": "code",
        "outputId": "444db712-93b6-40e7-999e-16e1349ff009",
        "colab": {
          "base_uri": "https://localhost:8080/",
          "height": 314
        }
      },
      "source": [
        "median_age_female.describe()"
      ],
      "execution_count": 5,
      "outputs": [
        {
          "output_type": "execute_result",
          "data": {
            "text/html": [
              "<div>\n",
              "<style scoped>\n",
              "    .dataframe tbody tr th:only-of-type {\n",
              "        vertical-align: middle;\n",
              "    }\n",
              "\n",
              "    .dataframe tbody tr th {\n",
              "        vertical-align: top;\n",
              "    }\n",
              "\n",
              "    .dataframe thead th {\n",
              "        text-align: right;\n",
              "    }\n",
              "</style>\n",
              "<table border=\"1\" class=\"dataframe\">\n",
              "  <thead>\n",
              "    <tr style=\"text-align: right;\">\n",
              "      <th></th>\n",
              "      <th>Year</th>\n",
              "      <th>South Region</th>\n",
              "      <th>Northeast Region</th>\n",
              "      <th>Midwest Region</th>\n",
              "      <th>West Region</th>\n",
              "    </tr>\n",
              "  </thead>\n",
              "  <tbody>\n",
              "    <tr>\n",
              "      <th>count</th>\n",
              "      <td>4.000000</td>\n",
              "      <td>4.000000</td>\n",
              "      <td>4.00000</td>\n",
              "      <td>4.000000</td>\n",
              "      <td>4.000000</td>\n",
              "    </tr>\n",
              "    <tr>\n",
              "      <th>mean</th>\n",
              "      <td>2016.500000</td>\n",
              "      <td>27.525000</td>\n",
              "      <td>29.40000</td>\n",
              "      <td>27.650000</td>\n",
              "      <td>28.075000</td>\n",
              "    </tr>\n",
              "    <tr>\n",
              "      <th>std</th>\n",
              "      <td>1.290994</td>\n",
              "      <td>0.298608</td>\n",
              "      <td>0.08165</td>\n",
              "      <td>0.191485</td>\n",
              "      <td>0.275379</td>\n",
              "    </tr>\n",
              "    <tr>\n",
              "      <th>min</th>\n",
              "      <td>2015.000000</td>\n",
              "      <td>27.200000</td>\n",
              "      <td>29.30000</td>\n",
              "      <td>27.400000</td>\n",
              "      <td>27.800000</td>\n",
              "    </tr>\n",
              "    <tr>\n",
              "      <th>25%</th>\n",
              "      <td>2015.750000</td>\n",
              "      <td>27.350000</td>\n",
              "      <td>29.37500</td>\n",
              "      <td>27.550000</td>\n",
              "      <td>27.875000</td>\n",
              "    </tr>\n",
              "    <tr>\n",
              "      <th>50%</th>\n",
              "      <td>2016.500000</td>\n",
              "      <td>27.500000</td>\n",
              "      <td>29.40000</td>\n",
              "      <td>27.700000</td>\n",
              "      <td>28.050000</td>\n",
              "    </tr>\n",
              "    <tr>\n",
              "      <th>75%</th>\n",
              "      <td>2017.250000</td>\n",
              "      <td>27.675000</td>\n",
              "      <td>29.42500</td>\n",
              "      <td>27.800000</td>\n",
              "      <td>28.250000</td>\n",
              "    </tr>\n",
              "    <tr>\n",
              "      <th>max</th>\n",
              "      <td>2018.000000</td>\n",
              "      <td>27.900000</td>\n",
              "      <td>29.50000</td>\n",
              "      <td>27.800000</td>\n",
              "      <td>28.400000</td>\n",
              "    </tr>\n",
              "  </tbody>\n",
              "</table>\n",
              "</div>"
            ],
            "text/plain": [
              "              Year  South Region  Northeast Region  Midwest Region  West Region\n",
              "count     4.000000      4.000000           4.00000        4.000000     4.000000\n",
              "mean   2016.500000     27.525000          29.40000       27.650000    28.075000\n",
              "std       1.290994      0.298608           0.08165        0.191485     0.275379\n",
              "min    2015.000000     27.200000          29.30000       27.400000    27.800000\n",
              "25%    2015.750000     27.350000          29.37500       27.550000    27.875000\n",
              "50%    2016.500000     27.500000          29.40000       27.700000    28.050000\n",
              "75%    2017.250000     27.675000          29.42500       27.800000    28.250000\n",
              "max    2018.000000     27.900000          29.50000       27.800000    28.400000"
            ]
          },
          "metadata": {
            "tags": []
          },
          "execution_count": 5
        }
      ]
    },
    {
      "cell_type": "code",
      "metadata": {
        "id": "VPpHYavBmX40",
        "colab_type": "code",
        "outputId": "8561995c-a7f5-429e-caa1-7fc10f8123da",
        "colab": {
          "base_uri": "https://localhost:8080/",
          "height": 119
        }
      },
      "source": [
        "median_age_female.dtypes"
      ],
      "execution_count": 6,
      "outputs": [
        {
          "output_type": "execute_result",
          "data": {
            "text/plain": [
              "Year                  int64\n",
              "South Region        float64\n",
              "Northeast Region    float64\n",
              "Midwest Region      float64\n",
              "West Region         float64\n",
              "dtype: object"
            ]
          },
          "metadata": {
            "tags": []
          },
          "execution_count": 6
        }
      ]
    },
    {
      "cell_type": "code",
      "metadata": {
        "id": "aN1hvknjUrtr",
        "colab_type": "code",
        "colab": {
          "base_uri": "https://localhost:8080/",
          "height": 119
        },
        "outputId": "6a4bfff2-f535-484c-ec16-27b6a09be8a2"
      },
      "source": [
        "median_age_female.mean()"
      ],
      "execution_count": 15,
      "outputs": [
        {
          "output_type": "execute_result",
          "data": {
            "text/plain": [
              "Year                2016.500\n",
              "South Region          27.525\n",
              "Northeast Region      29.400\n",
              "Midwest Region        27.650\n",
              "West Region           28.075\n",
              "dtype: float64"
            ]
          },
          "metadata": {
            "tags": []
          },
          "execution_count": 15
        }
      ]
    },
    {
      "cell_type": "code",
      "metadata": {
        "id": "FY5QY5MwadUq",
        "colab_type": "code",
        "colab": {
          "base_uri": "https://localhost:8080/",
          "height": 204
        },
        "outputId": "ae51e037-7c54-4c05-e32a-c00d4cac2845"
      },
      "source": [
        "avg_age_f_south_ct = pd.crosstab(median_age_female['Year'], median_age_female['South Region'], normalize='columns')\n",
        "avg_age_f_south_ct.head()"
      ],
      "execution_count": 39,
      "outputs": [
        {
          "output_type": "execute_result",
          "data": {
            "text/html": [
              "<div>\n",
              "<style scoped>\n",
              "    .dataframe tbody tr th:only-of-type {\n",
              "        vertical-align: middle;\n",
              "    }\n",
              "\n",
              "    .dataframe tbody tr th {\n",
              "        vertical-align: top;\n",
              "    }\n",
              "\n",
              "    .dataframe thead th {\n",
              "        text-align: right;\n",
              "    }\n",
              "</style>\n",
              "<table border=\"1\" class=\"dataframe\">\n",
              "  <thead>\n",
              "    <tr style=\"text-align: right;\">\n",
              "      <th>South Region</th>\n",
              "      <th>27.2</th>\n",
              "      <th>27.4</th>\n",
              "      <th>27.6</th>\n",
              "      <th>27.9</th>\n",
              "    </tr>\n",
              "    <tr>\n",
              "      <th>Year</th>\n",
              "      <th></th>\n",
              "      <th></th>\n",
              "      <th></th>\n",
              "      <th></th>\n",
              "    </tr>\n",
              "  </thead>\n",
              "  <tbody>\n",
              "    <tr>\n",
              "      <th>2015</th>\n",
              "      <td>1.0</td>\n",
              "      <td>0.0</td>\n",
              "      <td>0.0</td>\n",
              "      <td>0.0</td>\n",
              "    </tr>\n",
              "    <tr>\n",
              "      <th>2016</th>\n",
              "      <td>0.0</td>\n",
              "      <td>1.0</td>\n",
              "      <td>0.0</td>\n",
              "      <td>0.0</td>\n",
              "    </tr>\n",
              "    <tr>\n",
              "      <th>2017</th>\n",
              "      <td>0.0</td>\n",
              "      <td>0.0</td>\n",
              "      <td>1.0</td>\n",
              "      <td>0.0</td>\n",
              "    </tr>\n",
              "    <tr>\n",
              "      <th>2018</th>\n",
              "      <td>0.0</td>\n",
              "      <td>0.0</td>\n",
              "      <td>0.0</td>\n",
              "      <td>1.0</td>\n",
              "    </tr>\n",
              "  </tbody>\n",
              "</table>\n",
              "</div>"
            ],
            "text/plain": [
              "South Region  27.2  27.4  27.6  27.9\n",
              "Year                                \n",
              "2015           1.0   0.0   0.0   0.0\n",
              "2016           0.0   1.0   0.0   0.0\n",
              "2017           0.0   0.0   1.0   0.0\n",
              "2018           0.0   0.0   0.0   1.0"
            ]
          },
          "metadata": {
            "tags": []
          },
          "execution_count": 39
        }
      ]
    },
    {
      "cell_type": "code",
      "metadata": {
        "id": "iYPliDI6bPbx",
        "colab_type": "code",
        "colab": {
          "base_uri": "https://localhost:8080/",
          "height": 204
        },
        "outputId": "170c51d2-b672-406a-8e6c-d359e3446074"
      },
      "source": [
        "avg_age_f_south_ct = avg_age_f_south_ct.T\n",
        "avg_age_f_south_ct.head()"
      ],
      "execution_count": 40,
      "outputs": [
        {
          "output_type": "execute_result",
          "data": {
            "text/html": [
              "<div>\n",
              "<style scoped>\n",
              "    .dataframe tbody tr th:only-of-type {\n",
              "        vertical-align: middle;\n",
              "    }\n",
              "\n",
              "    .dataframe tbody tr th {\n",
              "        vertical-align: top;\n",
              "    }\n",
              "\n",
              "    .dataframe thead th {\n",
              "        text-align: right;\n",
              "    }\n",
              "</style>\n",
              "<table border=\"1\" class=\"dataframe\">\n",
              "  <thead>\n",
              "    <tr style=\"text-align: right;\">\n",
              "      <th>Year</th>\n",
              "      <th>2015</th>\n",
              "      <th>2016</th>\n",
              "      <th>2017</th>\n",
              "      <th>2018</th>\n",
              "    </tr>\n",
              "    <tr>\n",
              "      <th>South Region</th>\n",
              "      <th></th>\n",
              "      <th></th>\n",
              "      <th></th>\n",
              "      <th></th>\n",
              "    </tr>\n",
              "  </thead>\n",
              "  <tbody>\n",
              "    <tr>\n",
              "      <th>27.2</th>\n",
              "      <td>1.0</td>\n",
              "      <td>0.0</td>\n",
              "      <td>0.0</td>\n",
              "      <td>0.0</td>\n",
              "    </tr>\n",
              "    <tr>\n",
              "      <th>27.4</th>\n",
              "      <td>0.0</td>\n",
              "      <td>1.0</td>\n",
              "      <td>0.0</td>\n",
              "      <td>0.0</td>\n",
              "    </tr>\n",
              "    <tr>\n",
              "      <th>27.6</th>\n",
              "      <td>0.0</td>\n",
              "      <td>0.0</td>\n",
              "      <td>1.0</td>\n",
              "      <td>0.0</td>\n",
              "    </tr>\n",
              "    <tr>\n",
              "      <th>27.9</th>\n",
              "      <td>0.0</td>\n",
              "      <td>0.0</td>\n",
              "      <td>0.0</td>\n",
              "      <td>1.0</td>\n",
              "    </tr>\n",
              "  </tbody>\n",
              "</table>\n",
              "</div>"
            ],
            "text/plain": [
              "Year          2015  2016  2017  2018\n",
              "South Region                        \n",
              "27.2           1.0   0.0   0.0   0.0\n",
              "27.4           0.0   1.0   0.0   0.0\n",
              "27.6           0.0   0.0   1.0   0.0\n",
              "27.9           0.0   0.0   0.0   1.0"
            ]
          },
          "metadata": {
            "tags": []
          },
          "execution_count": 40
        }
      ]
    },
    {
      "cell_type": "code",
      "metadata": {
        "id": "J1M8xKSobd9a",
        "colab_type": "code",
        "colab": {}
      },
      "source": [
        ""
      ],
      "execution_count": 0,
      "outputs": []
    },
    {
      "cell_type": "code",
      "metadata": {
        "id": "22WjCQaYbHCM",
        "colab_type": "code",
        "colab": {}
      },
      "source": [
        "marriage_rate_midwest = marriage_rate_midwest.T\n",
        "marriage_rate_midwest.head()"
      ],
      "execution_count": 0,
      "outputs": []
    },
    {
      "cell_type": "code",
      "metadata": {
        "id": "Z9WWoa2SzFwo",
        "colab_type": "code",
        "outputId": "a8562c64-6dff-4fa7-997a-4061b684af6c",
        "colab": {
          "base_uri": "https://localhost:8080/",
          "height": 173
        }
      },
      "source": [
        "median_age_male.head()"
      ],
      "execution_count": 8,
      "outputs": [
        {
          "output_type": "execute_result",
          "data": {
            "text/html": [
              "<div>\n",
              "<style scoped>\n",
              "    .dataframe tbody tr th:only-of-type {\n",
              "        vertical-align: middle;\n",
              "    }\n",
              "\n",
              "    .dataframe tbody tr th {\n",
              "        vertical-align: top;\n",
              "    }\n",
              "\n",
              "    .dataframe thead th {\n",
              "        text-align: right;\n",
              "    }\n",
              "</style>\n",
              "<table border=\"1\" class=\"dataframe\">\n",
              "  <thead>\n",
              "    <tr style=\"text-align: right;\">\n",
              "      <th></th>\n",
              "      <th>Year</th>\n",
              "      <th>South Region</th>\n",
              "      <th>Northeast Region</th>\n",
              "      <th>Midwest Region</th>\n",
              "      <th>West Region</th>\n",
              "    </tr>\n",
              "  </thead>\n",
              "  <tbody>\n",
              "    <tr>\n",
              "      <th>0</th>\n",
              "      <td>2015</td>\n",
              "      <td>29.1</td>\n",
              "      <td>30.7</td>\n",
              "      <td>29.4</td>\n",
              "      <td>29.9</td>\n",
              "    </tr>\n",
              "    <tr>\n",
              "      <th>1</th>\n",
              "      <td>2016</td>\n",
              "      <td>29.4</td>\n",
              "      <td>30.9</td>\n",
              "      <td>29.5</td>\n",
              "      <td>30.0</td>\n",
              "    </tr>\n",
              "    <tr>\n",
              "      <th>2</th>\n",
              "      <td>2017</td>\n",
              "      <td>29.4</td>\n",
              "      <td>30.9</td>\n",
              "      <td>29.6</td>\n",
              "      <td>30.2</td>\n",
              "    </tr>\n",
              "    <tr>\n",
              "      <th>3</th>\n",
              "      <td>2018</td>\n",
              "      <td>29.7</td>\n",
              "      <td>30.9</td>\n",
              "      <td>29.7</td>\n",
              "      <td>30.3</td>\n",
              "    </tr>\n",
              "  </tbody>\n",
              "</table>\n",
              "</div>"
            ],
            "text/plain": [
              "   Year  South Region  Northeast Region  Midwest Region  West Region\n",
              "0  2015          29.1              30.7            29.4         29.9\n",
              "1  2016          29.4              30.9            29.5         30.0\n",
              "2  2017          29.4              30.9            29.6         30.2\n",
              "3  2018          29.7              30.9            29.7         30.3"
            ]
          },
          "metadata": {
            "tags": []
          },
          "execution_count": 8
        }
      ]
    },
    {
      "cell_type": "code",
      "metadata": {
        "id": "HOeqevJkzxYd",
        "colab_type": "code",
        "outputId": "1e036e51-f7d4-4de5-fcbe-fa459314cebf",
        "colab": {
          "base_uri": "https://localhost:8080/",
          "height": 34
        }
      },
      "source": [
        "median_age_male.shape"
      ],
      "execution_count": 9,
      "outputs": [
        {
          "output_type": "execute_result",
          "data": {
            "text/plain": [
              "(4, 5)"
            ]
          },
          "metadata": {
            "tags": []
          },
          "execution_count": 9
        }
      ]
    },
    {
      "cell_type": "code",
      "metadata": {
        "id": "AabpzrrCk2O7",
        "colab_type": "code",
        "outputId": "46b66c0f-bdee-4d64-d7b0-9b4736509eb6",
        "colab": {
          "base_uri": "https://localhost:8080/",
          "height": 314
        }
      },
      "source": [
        "median_age_male.describe()"
      ],
      "execution_count": 10,
      "outputs": [
        {
          "output_type": "execute_result",
          "data": {
            "text/html": [
              "<div>\n",
              "<style scoped>\n",
              "    .dataframe tbody tr th:only-of-type {\n",
              "        vertical-align: middle;\n",
              "    }\n",
              "\n",
              "    .dataframe tbody tr th {\n",
              "        vertical-align: top;\n",
              "    }\n",
              "\n",
              "    .dataframe thead th {\n",
              "        text-align: right;\n",
              "    }\n",
              "</style>\n",
              "<table border=\"1\" class=\"dataframe\">\n",
              "  <thead>\n",
              "    <tr style=\"text-align: right;\">\n",
              "      <th></th>\n",
              "      <th>Year</th>\n",
              "      <th>South Region</th>\n",
              "      <th>Northeast Region</th>\n",
              "      <th>Midwest Region</th>\n",
              "      <th>West Region</th>\n",
              "    </tr>\n",
              "  </thead>\n",
              "  <tbody>\n",
              "    <tr>\n",
              "      <th>count</th>\n",
              "      <td>4.000000</td>\n",
              "      <td>4.000000</td>\n",
              "      <td>4.00</td>\n",
              "      <td>4.000000</td>\n",
              "      <td>4.000000</td>\n",
              "    </tr>\n",
              "    <tr>\n",
              "      <th>mean</th>\n",
              "      <td>2016.500000</td>\n",
              "      <td>29.400000</td>\n",
              "      <td>30.85</td>\n",
              "      <td>29.550000</td>\n",
              "      <td>30.100000</td>\n",
              "    </tr>\n",
              "    <tr>\n",
              "      <th>std</th>\n",
              "      <td>1.290994</td>\n",
              "      <td>0.244949</td>\n",
              "      <td>0.10</td>\n",
              "      <td>0.129099</td>\n",
              "      <td>0.182574</td>\n",
              "    </tr>\n",
              "    <tr>\n",
              "      <th>min</th>\n",
              "      <td>2015.000000</td>\n",
              "      <td>29.100000</td>\n",
              "      <td>30.70</td>\n",
              "      <td>29.400000</td>\n",
              "      <td>29.900000</td>\n",
              "    </tr>\n",
              "    <tr>\n",
              "      <th>25%</th>\n",
              "      <td>2015.750000</td>\n",
              "      <td>29.325000</td>\n",
              "      <td>30.85</td>\n",
              "      <td>29.475000</td>\n",
              "      <td>29.975000</td>\n",
              "    </tr>\n",
              "    <tr>\n",
              "      <th>50%</th>\n",
              "      <td>2016.500000</td>\n",
              "      <td>29.400000</td>\n",
              "      <td>30.90</td>\n",
              "      <td>29.550000</td>\n",
              "      <td>30.100000</td>\n",
              "    </tr>\n",
              "    <tr>\n",
              "      <th>75%</th>\n",
              "      <td>2017.250000</td>\n",
              "      <td>29.475000</td>\n",
              "      <td>30.90</td>\n",
              "      <td>29.625000</td>\n",
              "      <td>30.225000</td>\n",
              "    </tr>\n",
              "    <tr>\n",
              "      <th>max</th>\n",
              "      <td>2018.000000</td>\n",
              "      <td>29.700000</td>\n",
              "      <td>30.90</td>\n",
              "      <td>29.700000</td>\n",
              "      <td>30.300000</td>\n",
              "    </tr>\n",
              "  </tbody>\n",
              "</table>\n",
              "</div>"
            ],
            "text/plain": [
              "              Year  South Region  Northeast Region  Midwest Region  West Region\n",
              "count     4.000000      4.000000              4.00        4.000000     4.000000\n",
              "mean   2016.500000     29.400000             30.85       29.550000    30.100000\n",
              "std       1.290994      0.244949              0.10        0.129099     0.182574\n",
              "min    2015.000000     29.100000             30.70       29.400000    29.900000\n",
              "25%    2015.750000     29.325000             30.85       29.475000    29.975000\n",
              "50%    2016.500000     29.400000             30.90       29.550000    30.100000\n",
              "75%    2017.250000     29.475000             30.90       29.625000    30.225000\n",
              "max    2018.000000     29.700000             30.90       29.700000    30.300000"
            ]
          },
          "metadata": {
            "tags": []
          },
          "execution_count": 10
        }
      ]
    },
    {
      "cell_type": "code",
      "metadata": {
        "id": "R1mhJR-TmSCm",
        "colab_type": "code",
        "outputId": "a5258b05-c578-4574-de04-ec2dc8bb0b2c",
        "colab": {
          "base_uri": "https://localhost:8080/",
          "height": 119
        }
      },
      "source": [
        "median_age_male.dtypes"
      ],
      "execution_count": 11,
      "outputs": [
        {
          "output_type": "execute_result",
          "data": {
            "text/plain": [
              "Year                  int64\n",
              "South Region        float64\n",
              "Northeast Region    float64\n",
              "Midwest Region      float64\n",
              "West Region         float64\n",
              "dtype: object"
            ]
          },
          "metadata": {
            "tags": []
          },
          "execution_count": 11
        }
      ]
    },
    {
      "cell_type": "code",
      "metadata": {
        "id": "JvlRa3PYUNwa",
        "colab_type": "code",
        "colab": {
          "base_uri": "https://localhost:8080/",
          "height": 119
        },
        "outputId": "10298f8b-f4ff-4e33-96e1-847ab710b71a"
      },
      "source": [
        "median_age_male.mean()"
      ],
      "execution_count": 14,
      "outputs": [
        {
          "output_type": "execute_result",
          "data": {
            "text/plain": [
              "Year                2016.50\n",
              "South Region          29.40\n",
              "Northeast Region      30.85\n",
              "Midwest Region        29.55\n",
              "West Region           30.10\n",
              "dtype: float64"
            ]
          },
          "metadata": {
            "tags": []
          },
          "execution_count": 14
        }
      ]
    },
    {
      "cell_type": "code",
      "metadata": {
        "id": "bzE_rFITnBP2",
        "colab_type": "code",
        "colab": {}
      },
      "source": [
        "# Pie Chart\n",
        "\n",
        "import plotly.express as px\n",
        "df = px.data.tips()\n",
        "fig = px.pie(df, values='tip', names='day', color_discrete_sequence=px.colors.sequential.RdBu)\n",
        "fig.show()"
      ],
      "execution_count": 0,
      "outputs": []
    },
    {
      "cell_type": "code",
      "metadata": {
        "id": "lUjdsxJHmp_g",
        "colab_type": "code",
        "outputId": "1343e6bb-ea6d-4e29-dca8-2b55b7e4f316",
        "colab": {
          "base_uri": "https://localhost:8080/",
          "height": 173
        }
      },
      "source": [
        "median_age_male.head()"
      ],
      "execution_count": 0,
      "outputs": [
        {
          "output_type": "execute_result",
          "data": {
            "text/html": [
              "<div>\n",
              "<style scoped>\n",
              "    .dataframe tbody tr th:only-of-type {\n",
              "        vertical-align: middle;\n",
              "    }\n",
              "\n",
              "    .dataframe tbody tr th {\n",
              "        vertical-align: top;\n",
              "    }\n",
              "\n",
              "    .dataframe thead th {\n",
              "        text-align: right;\n",
              "    }\n",
              "</style>\n",
              "<table border=\"1\" class=\"dataframe\">\n",
              "  <thead>\n",
              "    <tr style=\"text-align: right;\">\n",
              "      <th></th>\n",
              "      <th>Year</th>\n",
              "      <th>South Region</th>\n",
              "      <th>Northeast Region</th>\n",
              "      <th>Midwest Region</th>\n",
              "      <th>West Region</th>\n",
              "    </tr>\n",
              "  </thead>\n",
              "  <tbody>\n",
              "    <tr>\n",
              "      <th>0</th>\n",
              "      <td>2015</td>\n",
              "      <td>29.1</td>\n",
              "      <td>30.7</td>\n",
              "      <td>29.4</td>\n",
              "      <td>29.9</td>\n",
              "    </tr>\n",
              "    <tr>\n",
              "      <th>1</th>\n",
              "      <td>2016</td>\n",
              "      <td>29.4</td>\n",
              "      <td>30.9</td>\n",
              "      <td>29.5</td>\n",
              "      <td>30.0</td>\n",
              "    </tr>\n",
              "    <tr>\n",
              "      <th>2</th>\n",
              "      <td>2017</td>\n",
              "      <td>29.4</td>\n",
              "      <td>30.9</td>\n",
              "      <td>29.6</td>\n",
              "      <td>30.2</td>\n",
              "    </tr>\n",
              "    <tr>\n",
              "      <th>3</th>\n",
              "      <td>2018</td>\n",
              "      <td>29.7</td>\n",
              "      <td>30.9</td>\n",
              "      <td>29.7</td>\n",
              "      <td>30.3</td>\n",
              "    </tr>\n",
              "  </tbody>\n",
              "</table>\n",
              "</div>"
            ],
            "text/plain": [
              "   Year  South Region  Northeast Region  Midwest Region  West Region\n",
              "0  2015          29.1              30.7            29.4         29.9\n",
              "1  2016          29.4              30.9            29.5         30.0\n",
              "2  2017          29.4              30.9            29.6         30.2\n",
              "3  2018          29.7              30.9            29.7         30.3"
            ]
          },
          "metadata": {
            "tags": []
          },
          "execution_count": 16
        }
      ]
    },
    {
      "cell_type": "markdown",
      "metadata": {
        "id": "jfa66U5HoRQx",
        "colab_type": "text"
      },
      "source": [
        "**Many people say the south is the only region that takes marriage seriously**"
      ]
    },
    {
      "cell_type": "code",
      "metadata": {
        "id": "kp52ZNC5obF1",
        "colab_type": "code",
        "colab": {}
      },
      "source": [
        ""
      ],
      "execution_count": 0,
      "outputs": []
    },
    {
      "cell_type": "code",
      "metadata": {
        "id": "YWH9YHrEhs4f",
        "colab_type": "code",
        "outputId": "edc71116-c565-4988-ca48-2e505e7c252b",
        "colab": {
          "base_uri": "https://localhost:8080/",
          "height": 279
        }
      },
      "source": [
        "median_age_female.plot.scatter('Year', 'South Region');"
      ],
      "execution_count": 0,
      "outputs": [
        {
          "output_type": "display_data",
          "data": {
            "image/png": "[encoded data removed]",
            "text/plain": [
              "<Figure size 432x288 with 1 Axes>"
            ]
          },
          "metadata": {
            "tags": []
          }
        }
      ]
    },
    {
      "cell_type": "code",
      "metadata": {
        "id": "Oi4MmprQnmn9",
        "colab_type": "code",
        "outputId": "d198fbf3-7ad5-4a3d-a46a-28861ff0eb2f",
        "colab": {
          "base_uri": "https://localhost:8080/",
          "height": 279
        }
      },
      "source": [
        "median_age_male.plot.scatter('Year', 'South Region');"
      ],
      "execution_count": 0,
      "outputs": [
        {
          "output_type": "display_data",
          "data": {
            "image/png": "[encoded data removed]",
            "text/plain": [
              "<Figure size 432x288 with 1 Axes>"
            ]
          },
          "metadata": {
            "tags": []
          }
        }
      ]
    },
    {
      "cell_type": "code",
      "metadata": {
        "id": "Ickgbut8nyDr",
        "colab_type": "code",
        "colab": {}
      },
      "source": [
        ""
      ],
      "execution_count": 0,
      "outputs": []
    }
  ]
}